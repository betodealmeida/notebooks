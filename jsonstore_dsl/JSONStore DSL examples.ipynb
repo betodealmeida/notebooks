{
 "metadata": {
  "name": "JSONStore DSL examples"
 },
 "nbformat": 3,
 "nbformat_minor": 0,
 "worksheets": [
  {
   "cells": [
    {
     "cell_type": "markdown",
     "metadata": {},
     "source": [
      "The little database that could\n",
      "==============================\n",
      "\n",
      "This is a demonstration of a few new features of [JSONStore](http://code.dealmeida.net/jsonstore), a Python module that I've been developing since 2005. It's a lightweight storage for Python representations of JSON documents. It uses SQLite for persisting objects, and a simple matching algorithm for searching.\n",
      "\n",
      "I wrote this before the NoSQL movement; even before ORMs were popular. I simply wanted a way of persisting objects from my Python scripts without having to create tables and defining my object model from day zero. Instead, I wanted something that could be used as a storage while my code was being still developed and rethinked. I used pickle and other alternatives for a while, but I wanted something that could be more efficiently searched.\n",
      "\n",
      "While JSONStore can be used from Python as a storage, it also comes with a full REST server. The REST API supports conditional `PUT`s, `PATCH`ing documents, and [Rison](http://mjtemplate.org/examples/rison.html) (a compact notation for encoding JSON documents in URLs). JSONStore also has a REST client that can talk to a remote JSONStore using the same API as a local storage.\n",
      "\n",
      "Creating a store\n",
      "----------------\n",
      "\n",
      "In this notebook I want to show the DSL capabilities of JSONStore, so I'll be using the `jsonstore.dsl.Store` class:"
     ]
    },
    {
     "cell_type": "code",
     "collapsed": false,
     "input": [
      "from jsonstore.dsl import Store\n",
      "\n",
      "store1 = Store(':memory:')\n",
      "\n",
      "print type(store1)\n",
      "print len(store1)\n",
      "print store1"
     ],
     "language": "python",
     "metadata": {},
     "outputs": [
      {
       "output_type": "stream",
       "stream": "stdout",
       "text": [
        "<class 'jsonstore.dsl.Store'>\n",
        "0\n",
        "[]\n"
       ]
      }
     ],
     "prompt_number": 1
    },
    {
     "cell_type": "markdown",
     "metadata": {},
     "source": [
      "As we can see, the store is empty. Let's add a document to it, which should be a dictionary with lists, numbers, strings and dictionaries. When we add the document it will receive an `__id__` (unless we specify it) and an `__updated__` attribute:"
     ]
    },
    {
     "cell_type": "code",
     "collapsed": false,
     "input": [
      "doc = {\"a\": 1, \"b\": 2}\n",
      "\n",
      "# insert the doc into the store and keep the resulting entry\n",
      "entry = doc >> store1\n",
      "\n",
      "from pprint import pprint\n",
      "pprint(entry)"
     ],
     "language": "python",
     "metadata": {},
     "outputs": [
      {
       "output_type": "stream",
       "stream": "stdout",
       "text": [
        "{u'__id__': u'09649ff7-68d5-4ace-804d-f8873a3bfe35',\n",
        " u'__updated__': datetime.datetime(2013, 3, 1, 9, 56, 44, 50494, tzinfo=<iso8601.iso8601.Utc object at 0x965944c>),\n",
        " u'a': 1,\n",
        " u'b': 2}\n"
       ]
      }
     ],
     "prompt_number": 2
    },
    {
     "cell_type": "code",
     "collapsed": false,
     "input": [
      "print entry in store1"
     ],
     "language": "python",
     "metadata": {},
     "outputs": [
      {
       "output_type": "stream",
       "stream": "stdout",
       "text": [
        "True\n"
       ]
      }
     ],
     "prompt_number": 3
    },
    {
     "cell_type": "markdown",
     "metadata": {},
     "source": [
      "We can modify our document:"
     ]
    },
    {
     "cell_type": "code",
     "collapsed": false,
     "input": [
      "entry['c'] = 3\n",
      "entry >> store1\n",
      "\n",
      "print store1"
     ],
     "language": "python",
     "metadata": {},
     "outputs": [
      {
       "output_type": "stream",
       "stream": "stdout",
       "text": [
        "[{u'a': 1, u'c': 3, u'b': 2, u'__id__': u'09649ff7-68d5-4ace-804d-f8873a3bfe35', u'__updated__': datetime.datetime(2013, 3, 1, 9, 56, 44, 50494, tzinfo=<FixedOffset u'+00:00'>)}]\n"
       ]
      }
     ],
     "prompt_number": 4
    },
    {
     "cell_type": "markdown",
     "metadata": {},
     "source": [
      "And retrieve it by id:"
     ]
    },
    {
     "cell_type": "code",
     "collapsed": false,
     "input": [
      "id = entry['__id__']\n",
      "pprint(store1/id)"
     ],
     "language": "python",
     "metadata": {},
     "outputs": [
      {
       "output_type": "stream",
       "stream": "stdout",
       "text": [
        "{u'__id__': u'09649ff7-68d5-4ace-804d-f8873a3bfe35',\n",
        " u'__updated__': datetime.datetime(2013, 3, 1, 9, 56, 44, 50494, tzinfo=<FixedOffset u'+00:00'>),\n",
        " u'a': 1,\n",
        " u'b': 2,\n",
        " u'c': 3}\n"
       ]
      }
     ],
     "prompt_number": 5
    },
    {
     "cell_type": "markdown",
     "metadata": {},
     "source": [
      "How do we delete a document? By using the left shift operator:"
     ]
    },
    {
     "cell_type": "code",
     "collapsed": false,
     "input": [
      "entry << store1\n",
      "print entry in store1\n",
      "print len(store1)"
     ],
     "language": "python",
     "metadata": {},
     "outputs": [
      {
       "output_type": "stream",
       "stream": "stdout",
       "text": [
        "False\n",
        "0\n"
       ]
      }
     ],
     "prompt_number": 6
    },
    {
     "cell_type": "markdown",
     "metadata": {},
     "source": [
      "Searching and filtering\n",
      "-----------------------\n",
      "\n",
      "For searching and filtering a store we use the `|` (or) operator, mimicking Unix pipes. First let's populate our store:"
     ]
    },
    {
     "cell_type": "code",
     "collapsed": false,
     "input": [
      "import random\n",
      "\n",
      "for i in range(10):\n",
      "    doc = {\"a\": random.random()}\n",
      "    doc >> store1\n",
      "    \n",
      "print len(store1)"
     ],
     "language": "python",
     "metadata": {},
     "outputs": [
      {
       "output_type": "stream",
       "stream": "stdout",
       "text": [
        "10\n"
       ]
      }
     ],
     "prompt_number": 7
    },
    {
     "cell_type": "markdown",
     "metadata": {},
     "source": [
      "Now let's say we want to filter elements where `a > 0.5`, how would we do that? Well, JSONStore defines a series of operators:"
     ]
    },
    {
     "cell_type": "code",
     "collapsed": false,
     "input": [
      "import jsonstore.operators\n",
      "print jsonstore.operators.__all__\n",
      "\n",
      "from jsonstore.operators import *"
     ],
     "language": "python",
     "metadata": {},
     "outputs": [
      {
       "output_type": "stream",
       "stream": "stdout",
       "text": [
        "['Operator', 'Equal', 'NotEqual', 'GreaterThan', 'LessThan', 'GreaterEqual', 'LessEqual', 'Between', 'In', 'Like', 'RegExp', 'Exists']\n"
       ]
      }
     ],
     "prompt_number": 8
    },
    {
     "cell_type": "code",
     "collapsed": false,
     "input": [
      "for entry in store1 | { \"a\": GreaterThan(0.5) }:\n",
      "    print entry['a']"
     ],
     "language": "python",
     "metadata": {},
     "outputs": [
      {
       "output_type": "stream",
       "stream": "stdout",
       "text": [
        "0.69586713073\n",
        "0.761626206136\n",
        "0.939228117884\n",
        "0.957735409903\n",
        "0.822452671938\n",
        "0.925025553943\n",
        "0.769447300367\n",
        "0.809042945432\n"
       ]
      }
     ],
     "prompt_number": 9
    },
    {
     "cell_type": "markdown",
     "metadata": {},
     "source": [
      "We can even filter some data and pass it to a second store:"
     ]
    },
    {
     "cell_type": "code",
     "collapsed": false,
     "input": [
      "store2 = Store(':memory:')\n",
      "print store2"
     ],
     "language": "python",
     "metadata": {},
     "outputs": [
      {
       "output_type": "stream",
       "stream": "stdout",
       "text": [
        "[]\n"
       ]
      }
     ],
     "prompt_number": 10
    },
    {
     "cell_type": "code",
     "collapsed": false,
     "input": [
      "# add entries with a>0.5 to store2\n",
      "store1 | { \"a\": LessThan(0.5) } | store2\n",
      "\n",
      "# and remove them from store1\n",
      "for entry in store1 | { \"a\": LessThan(0.5) }:\n",
      "    entry << store1\n",
      " \n",
      "print [entry['a'] for entry in store1]\n",
      "print [entry['a'] for entry in store2]"
     ],
     "language": "python",
     "metadata": {},
     "outputs": [
      {
       "output_type": "stream",
       "stream": "stdout",
       "text": [
        "[0.6958671307298383, 0.7616262061362761, 0.9392281178835281, 0.9577354099027726, 0.8224526719376571, 0.9250255539430865, 0.7694473003670922, 0.8090429454324256]\n",
        "[0.27561773888312824, 0.22119167983093946]\n"
       ]
      }
     ],
     "prompt_number": 11
    }
   ],
   "metadata": {}
  }
 ]
}