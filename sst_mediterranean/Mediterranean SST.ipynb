{
 "metadata": {
  "name": "Mediterranean SST"
 },
 "nbformat": 3,
 "nbformat_minor": 0,
 "worksheets": [
  {
   "cells": [
    {
     "cell_type": "markdown",
     "metadata": {},
     "source": [
      "SST of the Mediterranean Sea\n",
      "============================\n",
      "\n",
      "This is a simple example of using Python to read the values from a L4 SST product available at [Marinexplore](http://marinexplore.com/). The dataset can be [visualized](http://marinexplore.com/explore/#explore/2d/s8l35-d1=mi5fk0:d2=mhork0) on the Marinexplore website or [downloaded here](http://marinexplore.com/explore/#downloads/b2b5e0d4-9248-11e2-a730-22000a1c6aad).\n",
      "                                                                                                                                                                         \n",
      "The dataset contains data only from 2013-02-04 to 2013-02-13 as an example, but the temporal coverage can be easily increased."
     ]
    },
    {
     "cell_type": "code",
     "collapsed": false,
     "input": [
      "from pydap.client import open_url\n",
      "import pylab\n",
      "from mpl_toolkits.basemap import Basemap\n",
      "import coards"
     ],
     "language": "python",
     "metadata": {},
     "outputs": [],
     "prompt_number": 2
    },
    {
     "cell_type": "code",
     "collapsed": false,
     "input": [
      "dataset = open_url(\"http://dap.marinexplore.com/dap/u/7b1af958cfd3/b2b5e0d4-9248-11e2-a730-22000a1c6aad\")"
     ],
     "language": "python",
     "metadata": {},
     "outputs": [],
     "prompt_number": 3
    },
    {
     "cell_type": "code",
     "collapsed": false,
     "input": [
      "sst = dataset.g_ocean_temperature.g_ocean_temperature\n",
      "print sst.dimensions\n",
      "print sst.shape"
     ],
     "language": "python",
     "metadata": {},
     "outputs": [
      {
       "output_type": "stream",
       "stream": "stdout",
       "text": [
        "('time0', 'depth0', 'lat0', 'lon0')\n",
        "(9, 1, 1024, 2816)\n"
       ]
      }
     ],
     "prompt_number": 4
    },
    {
     "cell_type": "markdown",
     "metadata": {},
     "source": [
      "Here we download the data, using the slice (:) notation:"
     ]
    },
    {
     "cell_type": "code",
     "collapsed": false,
     "input": [
      "sst = sst[:]\n",
      "time = [coards.parse(v, dataset.time0.units) for v in dataset.time0[:]]\n",
      "lat = dataset.lat0[:]\n",
      "lon = dataset.lon0[:]"
     ],
     "language": "python",
     "metadata": {},
     "outputs": [],
     "prompt_number": 5
    },
    {
     "cell_type": "markdown",
     "metadata": {},
     "source": [
      "We also need to unpack the data to the proper values:"
     ]
    },
    {
     "cell_type": "code",
     "collapsed": false,
     "input": [
      "sst = sst * dataset.g_ocean_temperature.attributes['scale_factor'] + dataset.g_ocean_temperature.attributes['add_offset']"
     ],
     "language": "python",
     "metadata": {},
     "outputs": [],
     "prompt_number": 6
    },
    {
     "cell_type": "markdown",
     "metadata": {},
     "source": [
      "And we can now print to screen, or maybe save it a CSV file. Let's print a few values:"
     ]
    },
    {
     "cell_type": "code",
     "collapsed": false,
     "input": [
      "for j in range(5):\n",
      "    for i in range(5):\n",
      "        print time[0], lat[j], lon[i], sst[0,0,j,i]"
     ],
     "language": "python",
     "metadata": {},
     "outputs": [
      {
       "output_type": "stream",
       "stream": "stdout",
       "text": [
        "2013-02-05 00:00:00 39.0349998474 9.44499969482 14.84\n",
        "2013-02-05 00:00:00 39.0349998474 9.45499969537 14.85\n",
        "2013-02-05 00:00:00 39.0349998474 9.46499969591 14.85\n",
        "2013-02-05 00:00:00 39.0349998474 9.47499969645 14.86\n",
        "2013-02-05 00:00:00 39.0349998474 9.48499969699 14.86\n",
        "2013-02-05 00:00:00 39.0249998479 9.44499969482 14.83\n",
        "2013-02-05 00:00:00 39.0249998479 9.45499969537 14.83\n",
        "2013-02-05 00:00:00 39.0249998479 9.46499969591 14.84\n",
        "2013-02-05 00:00:00 39.0249998479 9.47499969645 14.85\n",
        "2013-02-05 00:00:00 39.0249998479 9.48499969699 14.85\n",
        "2013-02-05 00:00:00 39.0149998483 9.44499969482 14.82\n",
        "2013-02-05 00:00:00 39.0149998483 9.45499969537 14.82\n",
        "2013-02-05 00:00:00 39.0149998483 9.46499969591 14.83\n",
        "2013-02-05 00:00:00 39.0149998483 9.47499969645 14.84\n",
        "2013-02-05 00:00:00 39.0149998483 9.48499969699 14.84\n",
        "2013-02-05 00:00:00 39.0049998488 9.44499969482 14.81\n",
        "2013-02-05 00:00:00 39.0049998488 9.45499969537 14.82\n",
        "2013-02-05 00:00:00 39.0049998488 9.46499969591 14.82\n",
        "2013-02-05 00:00:00 39.0049998488 9.47499969645 14.83\n",
        "2013-02-05 00:00:00 39.0049998488 9.48499969699 14.83\n",
        "2013-02-05 00:00:00 38.9949998492 9.44499969482 14.81\n",
        "2013-02-05 00:00:00 38.9949998492 9.45499969537 14.81\n",
        "2013-02-05 00:00:00 38.9949998492 9.46499969591 14.82\n",
        "2013-02-05 00:00:00 38.9949998492 9.47499969645 14.82\n",
        "2013-02-05 00:00:00 38.9949998492 9.48499969699 14.82\n"
       ]
      }
     ],
     "prompt_number": 7
    },
    {
     "cell_type": "markdown",
     "metadata": {},
     "source": [
      "And save it to a CSV file:"
     ]
    },
    {
     "cell_type": "code",
     "collapsed": false,
     "input": [
      "out = open('data.csv', 'w')\n",
      "out.write('time,latitude,longitude,sst\\n')\n",
      "\n",
      "for l in range(9):\n",
      "    for j in range(1024):\n",
      "        for i in range(2816):\n",
      "            out.write('%s,%f,%f,%f\\n' % (time[l], lat[j], lon[i], sst[l,0,j,i]))\n",
      "\n",
      "out.close()"
     ],
     "language": "python",
     "metadata": {},
     "outputs": [],
     "prompt_number": 8
    },
    {
     "cell_type": "code",
     "collapsed": false,
     "input": [],
     "language": "python",
     "metadata": {},
     "outputs": []
    }
   ],
   "metadata": {}
  }
 ]
}