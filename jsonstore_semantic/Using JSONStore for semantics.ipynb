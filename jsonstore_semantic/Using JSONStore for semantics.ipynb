{
 "metadata": {
  "name": "Using JSONStore for semantics"
 },
 "nbformat": 3,
 "nbformat_minor": 0,
 "worksheets": [
  {
   "cells": [
    {
     "cell_type": "markdown",
     "metadata": {},
     "source": [
      "JSONStore and semantics\n",
      "=======================\n",
      "\n",
      "[JSONStore](http://code.dealmeida.net/jsonstore) is a lightweight database in development since 2006. It can be used directly from Python or accessed via HTTP. It allows creating, managing and searching JSON documents. Here's an example of creating a few documents which represent subject/predicate/object triplets:"
     ]
    },
    {
     "cell_type": "code",
     "collapsed": false,
     "input": [
      "from jsonstore.store import EntryManager\n",
      "\n",
      "em = EntryManager('index.db')                                                             \n",
      "\n",
      "em.create(subject='NOAA.OSCAR.QC.3', predicate='sameAs', object='MX.POINT.QC.IS_GOOD')\n",
      "em.create(subject='NOAA.OSCAR.QC.3', predicate='hasValue', object='3')          \n",
      "em.create(subject='MX.POINT.QC.IS_GOOD', predicate='hasValue', object='2')      \n",
      "em.create(subject='MX.POINT.QC.IS_GOOD', predicate='hasLabel', object='IS_GOOD')\n",
      "em.create(subject='MX.POINT.QC.IS_GOOD', predicate='hasDescription', object='A measurement that passed QC')\n",
      "print 'done!'"
     ],
     "language": "python",
     "metadata": {},
     "outputs": [
      {
       "output_type": "stream",
       "stream": "stdout",
       "text": [
        "done!\n"
       ]
      }
     ],
     "prompt_number": 17
    },
    {
     "cell_type": "markdown",
     "metadata": {},
     "source": [
      "Now suppose we are processing data from a given datasource, and it has a QC flag \"3\" in the namespace `NOAA.OSCAR.QC`. How do we get the equivalent flag in the `MX.POINT.QC` namespace? For this it's useful to create a special JSONStore operator. Take a look behind the curtain:"
     ]
    },
    {
     "cell_type": "code",
     "collapsed": false,
     "input": [
      "from jsonstore.operators import Like\n",
      "\n",
      "class Namespace(Like):                                                          \n",
      "    \"\"\"                                                                         \n",
      "    An operator that matches namespaces.                                        \n",
      "                                                                                \n",
      "    To test if a term belongs to a namespace::                                  \n",
      "                                                                                \n",
      "        >>> print \"foo.bar\" == Namespace(\"foo\")                                 \n",
      "        True                                                                    \n",
      "                                                                                \n",
      "    \"\"\"                                                                         \n",
      "    def __init__(self, ns):                                                     \n",
      "        self.params = ['%s.%%' % ns]                                            \n",
      "        pattern = '%s\\..*' % re.escape(ns)                                      \n",
      "        self.regexp = re.compile(pattern)    "
     ],
     "language": "python",
     "metadata": {},
     "outputs": [],
     "prompt_number": 18
    },
    {
     "cell_type": "markdown",
     "metadata": {},
     "source": [
      "From the value \"3\" in the namespace `NOAA.OSCAR.QC` we must first find the corresponding flag term:"
     ]
    },
    {
     "cell_type": "code",
     "collapsed": false,
     "input": [
      "result = em.search({\n",
      "    \"subject\"  :  Namespace(\"NOAA.OSCAR.QC\"),\n",
      "    \"predicate\": \"hasValue\",\n",
      "    \"object\"   : \"3\",\n",
      "})\n",
      "print result[0]['subject']"
     ],
     "language": "python",
     "metadata": {},
     "outputs": [
      {
       "output_type": "stream",
       "stream": "stdout",
       "text": [
        "NOAA.OSCAR.QC.3\n"
       ]
      }
     ],
     "prompt_number": 21
    },
    {
     "cell_type": "markdown",
     "metadata": {},
     "source": [
      "We now get the equivalent term in the `MX.POINT.QC` namespace:"
     ]
    },
    {
     "cell_type": "code",
     "collapsed": false,
     "input": [
      "result = em.search({\n",
      "    \"subject\"  : \"NOAA.OSCAR.QC.3\", \n",
      "    \"predicate\": \"sameAs\", \n",
      "    \"object\"   : Namespace(\"MX.POINT.QC\"),\n",
      "})\n",
      "print result[0]['object']"
     ],
     "language": "python",
     "metadata": {},
     "outputs": [
      {
       "output_type": "stream",
       "stream": "stdout",
       "text": [
        "MX.POINT.QC.IS_GOOD\n"
       ]
      }
     ],
     "prompt_number": 22
    },
    {
     "cell_type": "markdown",
     "metadata": {},
     "source": [
      "And now we get the corresponding value:"
     ]
    },
    {
     "cell_type": "code",
     "collapsed": false,
     "input": [
      "result = em.search({\n",
      "    \"subject\"  : \"MX.POINT.QC.IS_GOOD\", \n",
      "    \"predicate\": \"hasValue\",\n",
      "})\n",
      "print result[0]['object']"
     ],
     "language": "python",
     "metadata": {},
     "outputs": [
      {
       "output_type": "stream",
       "stream": "stdout",
       "text": [
        "2\n"
       ]
      }
     ],
     "prompt_number": 23
    },
    {
     "cell_type": "markdown",
     "metadata": {},
     "source": [
      "How fast are searches?"
     ]
    },
    {
     "cell_type": "code",
     "collapsed": false,
     "input": [
      "%timeit em.search(subject=Namespace(\"NOAA.OSCAR.QC\"), predicate=\"hasValue\", object=\"3\")\n",
      "%timeit em.search(subject=\"NOAA.OSCAR.QC.3\", predicate=\"sameAs\", object=Namespace(\"MX.POINT.QC\"))\n",
      "%timeit em.search(subject=\"MX.POINT.QC.IS_GOOD\", predicate=\"hasValue\")"
     ],
     "language": "python",
     "metadata": {},
     "outputs": [
      {
       "output_type": "stream",
       "stream": "stdout",
       "text": [
        "1000 loops, best of 3: 1.49 ms per loop\n",
        "1000 loops, best of 3: 1.48 ms per loop"
       ]
      },
      {
       "output_type": "stream",
       "stream": "stdout",
       "text": [
        "\n",
        "1000 loops, best of 3: 1.46 ms per loop"
       ]
      },
      {
       "output_type": "stream",
       "stream": "stdout",
       "text": [
        "\n"
       ]
      }
     ],
     "prompt_number": 24
    }
   ],
   "metadata": {}
  }
 ]
}