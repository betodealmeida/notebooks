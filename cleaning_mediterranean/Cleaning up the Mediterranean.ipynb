{
 "metadata": {
  "name": "Cleaning up the Mediterranean"
 },
 "nbformat": 3,
 "nbformat_minor": 0,
 "worksheets": [
  {
   "cells": [
    {
     "cell_type": "markdown",
     "metadata": {},
     "source": [
      "Cleaning up the Mediterranean!\n",
      "==============================\n",
      "\n",
      "**Dr. Roberto De Almeida** [&lt;rob@marinexplore.com&gt;](mailto:rob@marinexplore.com)\n",
      "\n",
      "This notebook tries to help answering the [following question](http://marinexplore.org/topic/28-cleaning-up-the-mediterranean) posted at [Marinexplore](http://marinexplore.org):\n",
      "\n",
      ">>> [Let's Do It Mediterranean! cleanup](http://www.facebook.com/LetsDoItMediterranean) is aiming to attack the garbage problem of the Mediterranean Sea. Besides cleaning beaches and shallow seabeds with the help of divers, we are aiming to remove floating trash from the surface. What are appropriate net hole sizes to minimize damage to marine life? What are optimal dimensions for collecting garbage? We already have some models drafted and there are already some netting systems out there from different organisations, but further insight is greatly appreciated. **Has anyone mapped the waste in the Mediterranean Sea or other seas? Of course, weather and currents result in constant movement, but are there certain areas that are more prone to floating debris?** Any available researches made on this topic?\n",
      "\n",
      "I'm always excited about questions that I can answer using Marinexplore (and when I can't I try to develop the product so I can). Identifying regions where the debris should accumulate in the ocean is not hard, and in fact lately there has been a lot of discussion on this topic regarding the [Great Pacific Garbage Patch](http://en.wikipedia.org/wiki/Great_Pacific_Garbage_Patch). Some regions of the ocean are called \"convergence zones\", since horizontal currents will converge towards them. Since water is mostly incompressible, when ocean currents convergence in the surface of the ocean the water must go down, resulting in a process called \"downwelling\":\n",
      "\n",
      "![Example of upwelling and convergence](http://2.bp.blogspot.com/_hUBszjMFua0/SPUpCXIBE4I/AAAAAAAAACA/O8SInmYtx-A/s400/o-dgiacomo-surslick.jpg)\n",
      "\n",
      "Floating debris will tend to accumulate in these regions, carried by ocean currents that downwell leaving the garbage at the surface. Identifying these regions from a dataset of ocean currents is trivial. The [divergence operator](http://en.wikipedia.org/wiki/Divergence), $\\nabla \\cdot {\\bf{v}}$, quantifies how much a vector field ${\\bf({v}}$ *diverges* from a point. Applying it to a dataset with surface currents will yield positive values on the map where the currents are diverging, and negative where they converge. Let's do that.\n",
      "\n",
      "The data\n",
      "--------\n",
      "\n",
      "I have created a dataset at Marinexplore containing [one year of Ekman currents from NOAA-ASCAT](http://ocn.mx/s/tG7v9fC), from 2012-01-01 to 2013-01-01. We can access the dataset directly using the [Pydap](http://pydap.org) client:"
     ]
    },
    {
     "cell_type": "code",
     "collapsed": false,
     "input": [
      "from pydap.client import open_url\n",
      "\n",
      "dataset = open_url(\"http://dap.marinexplore.com/dap/u/7b1af958cfd3/6a8b93a4-b358-11e2-8c46-22000a1c6aad\")\n",
      "print dataset"
     ],
     "language": "python",
     "metadata": {},
     "outputs": [
      {
       "output_type": "stream",
       "stream": "stdout",
       "text": [
        "<DatasetType with children 'g_ekman_current_speed_vector_u', 'g_ekman_current_speed_vector_v', 'g_ekman_current_speed', 'g_ekman_current_direction', 'time0', 'depth0', 'lat0', 'lon0'>\n"
       ]
      }
     ],
     "prompt_number": 1
    },
    {
     "cell_type": "markdown",
     "metadata": {},
     "source": [
      "Let's read the data, masking `u` and `v` where we have missing values:"
     ]
    },
    {
     "cell_type": "code",
     "collapsed": false,
     "input": [
      "lat = dataset.lat0[:]\n",
      "lon = dataset.lon0[:]\n",
      "u = dataset.g_ekman_current_speed_vector_u.g_ekman_current_speed_vector_u[:]\n",
      "u = np.ma.masked_where(isnan(u), u)\n",
      "v = dataset.g_ekman_current_speed_vector_v.g_ekman_current_speed_vector_v[:]\n",
      "v = np.ma.masked_where(isnan(v), v)"
     ],
     "language": "python",
     "metadata": {},
     "outputs": [],
     "prompt_number": 2
    },
    {
     "cell_type": "markdown",
     "metadata": {},
     "source": [
      "In order to calculate the divergence of the surface currents we'll be using the amazing [Pyclimate](http://pyclimate.org/) library. Pyclimate has a series of differential operators for the sphere, including divergence. One additional thing we must do before applying the operator is filling missing values with zero, using the `filled()` method:"
     ]
    },
    {
     "cell_type": "code",
     "collapsed": false,
     "input": [
      "from pyclimate.diffoperators import HDIVERGENCE\n",
      "\n",
      "op = HDIVERGENCE(lat, lon, asdegrees=True)\n",
      "div = op.hdivergence(u.filled(0.0), v.filled(0))"
     ],
     "language": "python",
     "metadata": {},
     "outputs": [],
     "prompt_number": 3
    },
    {
     "cell_type": "markdown",
     "metadata": {},
     "source": [
      "We're interested only in convergence, so let's invert `div` so that positive values represent convergence:"
     ]
    },
    {
     "cell_type": "code",
     "collapsed": false,
     "input": [
      "convergence = -div"
     ],
     "language": "python",
     "metadata": {},
     "outputs": [],
     "prompt_number": 13
    },
    {
     "cell_type": "markdown",
     "metadata": {},
     "source": [
      "Let's also calculate the mean throughout the year, and ignore negative values:"
     ]
    },
    {
     "cell_type": "code",
     "collapsed": false,
     "input": [
      "convergence = np.mean(convergence, axis=0)\n",
      "convergence = np.ma.masked_where(convergence <= 0, convergence)\n",
      "convergence = convergence[0,:,:]  # remove vertical axis so data is 2D"
     ],
     "language": "python",
     "metadata": {},
     "outputs": [],
     "prompt_number": 14
    },
    {
     "cell_type": "markdown",
     "metadata": {},
     "source": [
      "And we can not plot the map:"
     ]
    },
    {
     "cell_type": "code",
     "collapsed": false,
     "input": [
      "from mpl_toolkits.basemap import Basemap\n",
      "\n",
      "fig = figure(figsize=(18,6))\n",
      "ax = fig.gca()\n",
      "\n",
      "m = Basemap(ax=ax, llcrnrlon=-10, llcrnrlat=30, urcrnrlon=45, urcrnrlat=50, resolution='h')\n",
      "m.drawcoastlines(linewidth=0.25)\n",
      "m.fillcontinents(color='#000000', lake_color='#666666')\n",
      "m.drawmapboundary(fill_color='#666666')\n",
      "\n",
      "X, Y = np.meshgrid(lon, lat)\n",
      "m.pcolor(X, Y, convergence, alpha=1.0, edgecolors='#666666', vmin=0, vmax=1e-7)\n",
      "\n",
      "plt.savefig('mediterranean.png')"
     ],
     "language": "python",
     "metadata": {},
     "outputs": [],
     "prompt_number": "*"
    },
    {
     "cell_type": "markdown",
     "metadata": {},
     "source": [
      "What does this picture tells us? The squares show regions where convergence is happening. Red-yellow squares show strong convergence, which is where we should look expect for the debris to accumulate. We can see that some of the regions form straight lines, following boundaries: the southeastern Mediterranean, as well as the coast of Sicily, Sardinia and Barcelona. These reflect the boundaries of the dataset, and show convergence because here the currents flow towards the coast. This will also causa a strong accumulation on the Aegean Sea, east of Greece."
     ]
    }
   ],
   "metadata": {}
  }
 ]
}