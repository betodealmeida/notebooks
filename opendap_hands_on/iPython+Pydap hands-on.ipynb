{
 "metadata": {
  "name": "",
  "signature": "sha256:489b6a4f1b7d6caea663cc4d5e70ef4661b31d62623797c716d4aa9f0ffdd0fb"
 },
 "nbformat": 3,
 "nbformat_minor": 0,
 "worksheets": [
  {
   "cells": [
    {
     "cell_type": "markdown",
     "metadata": {},
     "source": [
      "# Open notebook science with Pydap and iPython\n",
      "\n",
      "**Roberto De Almeida** [roberto@dealmeida.net](mailto:roberto@dealmeida.net)\n",
      "\n",
      "The [iPython notebook](http://ipython.org/notebook.html) has started a revolution in the way science is done, by allowing scientists to publish their results online together with accompanying code, allowing computations to be easily replayed and modified. This is a new paradigm in open notebook science, fundamental for accountability and reproducibility of discoveries.\n",
      "\n",
      "Using the [DAP](http://opendap.org/) and [Pydap](http://pydap.org/), iPython notebooks become lightweight and self-contained, since all the data required for analyses are accessed remotely, and can be more easily shared and the results replicated. This is huge benefit, specially in areas like climate modelling where datasets are often very big.\n",
      "\n",
      "In this hands-on session I will go through examples of setting a simple server and accessing it and other DAP servers from an iPython notebook. The agenda is pretty flexible an open-ended: if you would like to run analyses on your data, feel free to setup a server with and explore it. I have also prepared a few interesting notebooks."
     ]
    },
    {
     "cell_type": "markdown",
     "metadata": {},
     "source": [
      "## Installing a DAP server: Pydap ##\n",
      "\n",
      "[Pydap](http://pydap.org/) is a pure-Python implementation of the DAP 2.0 protocol written from scratch since 2003. It comes with a client that proxies DAP variables to common Python objects like arrays and sequences, and a scalabe server with modular architecture. It also has an [experimental caching layer](https://github.com/robertodealmeida/pydap/blob/master/pydap/wsgi/cache.py) that is DAP-aware.\n",
      "\n",
      "Since Pydap is written in Python, in order to run a server we need to have Python 2.7+ installed. Python 3 support is complete, but not released yet. Feel free to [contact me](https://groups.google.com/forum/#!forum/pydap) if you would like to try it out.\n",
      "\n",
      "### Stable version ###\n",
      "\n",
      "The current stable version of Pydap is [3.1.1](https://pypi.python.org/pypi/Pydap), hosted on the Python Package Index (PyPI). In order to install, it is **strongly recommended** to use a virtual environment. This will ensure that Pydap and other required dependencies are installed separate from the system libraries. With multiple virtual environments it's possible to run different versions of Pydap (or any other Python module), plus some other benefits.\n",
      "\n",
      "Installing a Python virtual environment is easy:\n",
      "\n",
      "    $ curl -O https://pypi.python.org/packages/source/v/virtualenv/virtualenv-1.11.6.tar.gz\n",
      "$ tar xvfz virtualenv-1.11.6.tar.gz\n",
      "    $ cd virtualenv-1.11.6\n",
      "$ [sudo] python setup.py install\n",
      "\n",
      "This will install the `virtualenv` command globally, which we can now use to create our envs:\n",
      "\n",
      "    $ virtualenv dap-hands-on\n",
      "$ source dap-hands-on/bin/activate\n",
      "    (dap-hands-on)$ \n",
      "    \n",
      "After we have activated an env (line 2 above), all Python packages will be installed inside that directory and won't interfere with system tools. Likewise, Python will not be able to see the system libraries until the env is deactivated.\n",
      "\n",
      "Once we have our env, installing Pydap is easy:\n",
      "\n",
      "    $ pip install Pydap\n",
      "    \n",
      "We also need to install more packages depending on the data formats we want to support:\n",
      "\n",
      "    $ pip install pydap.handlers.netcdf\n",
      "   \n",
      "There are handlers for HDF4/5, CSV, SQL, Matlab and many other formats, all available at PyPI. They are distributed separately since each one has its own dependencies. Anyone can author a new handler and publish it to PyPI, under any name, since Python provides hooks for finding objects installed independent of the namespace.\n",
      "\n",
      "### Development version ###\n",
      "\n",
      "You can also try running the development version directly from Github. This is safer than it sounds: this branch has 100% test coverage and uses continuous integration to make new commits don't break anything. Installing directly from Github is pretty straightforward:\n",
      "\n",
      "    $ pip install git+https://github.com/robertodealmeida/pydap.git@develop\n",
      "$ pip install git+https://github.com/robertodealmeida/pydap.handlers.netcdf.git@develop"
     ]
    },
    {
     "cell_type": "markdown",
     "metadata": {},
     "source": [
      "## Running the server ##\n",
      "\n",
      "There are many different ways of [deploying a Pydap server](http://www.pydap.org/server.html), depending on your stack. For this hands-on session we don't need to worry about performance, and we can simply run the standalone server that comes with Pydap.\n",
      "\n",
      "For the stable version:\n",
      "\n",
      "    $ paster create -t pydap myserver\n",
      "$ paster serve ./myserver/server.ini\n",
      "\n",
      "This will start a server sharing data files from `./myserver/data/`, listening on the localhost interface. Check out `./myserver/server.ini` if you want to modify your server.\n",
      "\n",
      "For the development version:\n",
      "\n",
      "    $ pydap --init myserver\n",
      "$ pydap -t myserver -d /path/to/data\n",
      "    \n",
      "In both cases Pydap will create a series of templates that can be modified to change the layout of the server.    "
     ]
    },
    {
     "cell_type": "markdown",
     "metadata": {},
     "source": [
      "## Installing the iPython notebook\n",
      "\n",
      "Once we have `pip` installed, installing iPython is also pretty straightforward:\n",
      "\n",
      "    $ pip install ipython[notebook]\n",
      "$ pip install matplotlib\n",
      "\n",
      "The first line means \"install iPython with the notebook functionality\". This will install extra dependencies that are needed in order to run the web notebook; otherwise we'd be able only to run the CLI interpreter.\n",
      "\n",
      "We also need to install Basemap, a cartographic projection library for Matplotlib. This is slightly more tricky:\n",
      "\n",
      "    $ curl -O \"http://downloads.sourceforge.net/project/matplotlib/matplotlib-toolkits/basemap-1.0.2/basemap-1.0.2.tar.gz?r=&ts=1404706893&use_mirror=softlayer-dal\"\n",
      "$ tar zxfv basemap-1.0.2.tar.gz"
     ]
    },
    {
     "cell_type": "markdown",
     "metadata": {},
     "source": [
      "## First example: calculating Ekman currents\n",
      "\n",
      "In this first example we will calculate Ekman currents from the surface winds on the ocean. I have prepared a [dataset](http://marinexplore.org/explore/#downloads/0fdc1270-0471-11e3-a9d7-22000aeb03c4) in Marinexplore containing wind speed from NOAA/NCDC Blended daily 0.25-degree Sea Surface Winds. It also contains Ekman currents from EUMETSAT's ASCAT Satellite so we can validate the obtained results.\n",
      "\n",
      "In order to access the dataset, all we need to do is import Pydap and pass the dataset URL. You can copy that dataset to your collection if you have a Marinexplore login, and you'll get a unique DAP URL to access it. Otherwise, you can just use mine:"
     ]
    },
    {
     "cell_type": "code",
     "collapsed": false,
     "input": [
      "from pydap.client import open_url\n",
      "\n",
      "dataset = open_url(\"http://dap.marinexplore.org/dap/u/7b1af958cfd3/0fdc1270-0471-11e3-a9d7-22000aeb03c4\")\n",
      "print dataset"
     ],
     "language": "python",
     "metadata": {},
     "outputs": [
      {
       "output_type": "stream",
       "stream": "stdout",
       "text": [
        "<DatasetType with children 'g_wind_from_direction', 'g_wind_speed', 'g_wind_vector_u', 'g_wind_vector_v', 'time0', 'depth0', 'lat0', 'lon0', 'g_ekman_sea_water_current_vector_due_to_ekman_transport_u', 'g_ekman_sea_water_current_vector_due_to_ekman_transport_v', 'g_ekman_sea_water_current_speed_due_to_ekman_transport', 'g_ekman_sea_water_current_to_direction_due_to_ekman_transport', 'time1', 'depth1', 'lat1', 'lon1'>\n"
       ]
      }
     ],
     "prompt_number": 17
    },
    {
     "cell_type": "markdown",
     "metadata": {},
     "source": [
      "(If you're curious why some variables have the prefix `g_`, you might find this an interesting read: [Making sure your dataset can be accessed through Opendap](http://robertodealmeida.posthaven.com/making-sure-your-dataset-can-be-accessed-thro).)"
     ]
    },
    {
     "cell_type": "markdown",
     "metadata": {},
     "source": [
      "We can introspect our dataset without downloading any data. Let's look at the wind speed:"
     ]
    },
    {
     "cell_type": "code",
     "collapsed": false,
     "input": [
      "print dataset.g_wind_speed.array.shape, dataset.g_wind_speed.dimensions"
     ],
     "language": "python",
     "metadata": {},
     "outputs": [
      {
       "output_type": "stream",
       "stream": "stdout",
       "text": [
        "(32, 1, 512, 512) ('time0', 'depth0', 'lat0', 'lon0')\n"
       ]
      }
     ],
     "prompt_number": 21
    },
    {
     "cell_type": "markdown",
     "metadata": {},
     "source": [
      "In order to actually download data, we need to *slice* the array-objects:"
     ]
    },
    {
     "cell_type": "code",
     "collapsed": false,
     "input": [
      "subset = dataset.g_wind_speed[:,:,:,:]\n",
      "\n",
      "wind = np.ma.masked_where(np.isnan(subset.g_wind_speed), subset.g_wind_speed)\n",
      "lat = subset.lat0[:]\n",
      "lon = subset.lon0[:]"
     ],
     "language": "python",
     "metadata": {},
     "outputs": [],
     "prompt_number": 23
    },
    {
     "cell_type": "markdown",
     "metadata": {},
     "source": [
      "And this is how we plot it:"
     ]
    },
    {
     "cell_type": "code",
     "collapsed": false,
     "input": [
      "from mpl_toolkits.basemap import Basemap\n",
      "\n",
      "fig = plt.figure(figsize=(6,6))\n",
      "ax = fig.add_axes([0.1, 0.1, 0.8, 0.8])\n",
      "\n",
      "m = Basemap(\n",
      "    llcrnrlon=min(lon),\n",
      "    llcrnrlat=min(lat),\n",
      "    urcrnrlon=max(lon),\n",
      "    urcrnrlat=80,\n",
      "    resolution='l',\n",
      "    projection='merc')\n",
      "\n",
      "X, Y = m(*np.meshgrid(lon, lat))\n",
      "Z = np.mean(wind[:,0], axis=0)  # remove z dimension and average over time\n",
      "colors = m.contourf(X, Y, Z)\n",
      "cb = colorbar(colors)\n",
      "cb.set_label(dataset.g_wind_speed.units)\n",
      "m.drawcoastlines(linewidth=0.5)\n",
      "ax.set_title('Wind speed')"
     ],
     "language": "python",
     "metadata": {},
     "outputs": [
      {
       "ename": "ImportError",
       "evalue": "No module named basemap",
       "output_type": "pyerr",
       "traceback": [
        "\u001b[0;31m---------------------------------------------------------------------------\u001b[0m\n\u001b[0;31mImportError\u001b[0m                               Traceback (most recent call last)",
        "\u001b[0;32m<ipython-input-24-0e4e4e7ac5dd>\u001b[0m in \u001b[0;36m<module>\u001b[0;34m()\u001b[0m\n\u001b[0;32m----> 1\u001b[0;31m \u001b[0;32mfrom\u001b[0m \u001b[0mmpl_toolkits\u001b[0m\u001b[0;34m.\u001b[0m\u001b[0mbasemap\u001b[0m \u001b[0;32mimport\u001b[0m \u001b[0mBasemap\u001b[0m\u001b[0;34m\u001b[0m\u001b[0m\n\u001b[0m\u001b[1;32m      2\u001b[0m \u001b[0;34m\u001b[0m\u001b[0m\n\u001b[1;32m      3\u001b[0m \u001b[0mfig\u001b[0m \u001b[0;34m=\u001b[0m \u001b[0mplt\u001b[0m\u001b[0;34m.\u001b[0m\u001b[0mfigure\u001b[0m\u001b[0;34m(\u001b[0m\u001b[0mfigsize\u001b[0m\u001b[0;34m=\u001b[0m\u001b[0;34m(\u001b[0m\u001b[0;36m6\u001b[0m\u001b[0;34m,\u001b[0m\u001b[0;36m6\u001b[0m\u001b[0;34m)\u001b[0m\u001b[0;34m)\u001b[0m\u001b[0;34m\u001b[0m\u001b[0m\n\u001b[1;32m      4\u001b[0m \u001b[0max\u001b[0m \u001b[0;34m=\u001b[0m \u001b[0mfig\u001b[0m\u001b[0;34m.\u001b[0m\u001b[0madd_axes\u001b[0m\u001b[0;34m(\u001b[0m\u001b[0;34m[\u001b[0m\u001b[0;36m0.1\u001b[0m\u001b[0;34m,\u001b[0m \u001b[0;36m0.1\u001b[0m\u001b[0;34m,\u001b[0m \u001b[0;36m0.8\u001b[0m\u001b[0;34m,\u001b[0m \u001b[0;36m0.8\u001b[0m\u001b[0;34m]\u001b[0m\u001b[0;34m)\u001b[0m\u001b[0;34m\u001b[0m\u001b[0m\n\u001b[1;32m      5\u001b[0m \u001b[0;34m\u001b[0m\u001b[0m\n",
        "\u001b[0;31mImportError\u001b[0m: No module named basemap"
       ]
      }
     ],
     "prompt_number": 24
    },
    {
     "cell_type": "markdown",
     "metadata": {},
     "source": [
      "## Aditional reading\n",
      "\n",
      "- [A collection of Earth Science related iPython notebooks](http://earthpy.org/)\n",
      "- [Use of Basemap for Amazon river discharge visualization](earthpy.org/earthpy-basemap-amazon.html)\n",
      "- [Python for GeoSciences](https://github.com/koldunovn/python_for_geosciences)\n",
      "- [Using IPython for parallel computing](http://ipython.org/ipython-doc/stable/parallel/index.html)\n",
      "- [iPython notebook's rich display system](http://nbviewer.ipython.org/github/ipython/ipython/blob/1.x/examples/notebooks/Part%205%20-%20Rich%20Display%20System.ipynb)\n",
      "- [Books published as iPython notebooks](http://nbviewer.ipython.org/github/unpingco/Python-for-Signal-Processing/blob/master/Sampling_Theorem.ipynb)\n",
      "- [Running Julia on the iPython notebook](http://nbviewer.ipython.org/url/jdj.mit.edu/~stevenj/IJulia%20Preview.ipynb)\n",
      "- [Visualizing iPython notebooks](http://nbviewer.ipython.org/)\n",
      "- [A gallery of interesting iPython notebooks](https://github.com/ipython/ipython/wiki/A-gallery-of-interesting-IPython-Notebooks)\n",
      "- [Reasons to use iPython notebook as a scientist](http://www.pgbovine.net/ipython-notebook-first-impressions.htm)\n",
      "- [Co-authoring papers with iPython notebook at Authorea](https://authorea.com/users/3/articles/3904/_show_article)\n",
      "- [Plotting using D3](http://nbviewer.ipython.org/github/z-m-k/ipyD3/blob/master/ipyD3sample.ipynb)"
     ]
    }
   ],
   "metadata": {}
  }
 ]
}