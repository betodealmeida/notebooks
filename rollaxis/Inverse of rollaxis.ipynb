{
 "metadata": {
  "name": ""
 },
 "nbformat": 3,
 "nbformat_minor": 0,
 "worksheets": [
  {
   "cells": [
    {
     "cell_type": "code",
     "collapsed": false,
     "input": [
      "import numpy as np"
     ],
     "language": "python",
     "metadata": {},
     "outputs": [],
     "prompt_number": 2
    },
    {
     "cell_type": "markdown",
     "metadata": {},
     "source": [
      "These are the [examples](http://docs.scipy.org/doc/numpy/reference/generated/numpy.rollaxis.html) of `rollaxis` from Numpy:"
     ]
    },
    {
     "cell_type": "code",
     "collapsed": false,
     "input": [
      "a = np.ones((3,4,5,6))\n",
      "b = np.rollaxis(a, 3, 1)\n",
      "print b.shape\n",
      "\n",
      "c = np.rollaxis(a, 2)\n",
      "print c.shape\n",
      "\n",
      "d = np.rollaxis(a, 1, 4)\n",
      "print d.shape\n",
      "\n",
      "e = np.rollaxis(a, 0, 0)\n",
      "print e.shape"
     ],
     "language": "python",
     "metadata": {},
     "outputs": [
      {
       "output_type": "stream",
       "stream": "stdout",
       "text": [
        "(3, 6, 4, 5)\n",
        "(5, 3, 4, 6)\n",
        "(3, 5, 6, 4)\n",
        "(3, 4, 5, 6)\n"
       ]
      }
     ],
     "prompt_number": 3
    },
    {
     "cell_type": "markdown",
     "metadata": {},
     "source": [
      "Now our reverse function:"
     ]
    },
    {
     "cell_type": "code",
     "collapsed": false,
     "input": [
      "def sixallor(x, i, j=0):\n",
      "    if i==0 and j==0:\n",
      "        return x\n",
      "    if i>j:\n",
      "        return np.rollaxis(x, j, i+1)\n",
      "    else:\n",
      "        return np.rollaxis(x, j-1, i)"
     ],
     "language": "python",
     "metadata": {},
     "outputs": [],
     "prompt_number": 6
    },
    {
     "cell_type": "code",
     "collapsed": false,
     "input": [
      "print sixallor(b, 3, 1).shape\n",
      "print sixallor(c, 2).shape\n",
      "print sixallor(d, 1, 4).shape\n",
      "print sixallor(e, 0, 0).shape"
     ],
     "language": "python",
     "metadata": {},
     "outputs": [
      {
       "output_type": "stream",
       "stream": "stdout",
       "text": [
        "(3, 4, 5, 6)\n",
        "(3, 4, 5, 6)\n",
        "(3, 4, 5, 6)\n",
        "(3, 4, 5, 6)\n"
       ]
      }
     ],
     "prompt_number": 7
    }
   ],
   "metadata": {}
  }
 ]
}
