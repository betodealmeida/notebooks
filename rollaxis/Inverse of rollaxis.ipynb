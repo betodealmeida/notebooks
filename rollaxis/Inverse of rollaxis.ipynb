{
 "metadata": {
  "name": "Inverse of rollaxis"
 },
 "nbformat": 3,
 "nbformat_minor": 0,
 "worksheets": [
  {
   "cells": [
    {
     "cell_type": "code",
     "collapsed": false,
     "input": [
      "import numpy as np"
     ],
     "language": "python",
     "metadata": {},
     "outputs": [],
     "prompt_number": 1
    },
    {
     "cell_type": "markdown",
     "metadata": {},
     "source": [
      "These are the [examples](http://docs.scipy.org/doc/numpy/reference/generated/numpy.rollaxis.html) of `rollaxis` from Numpy:"
     ]
    },
    {
     "cell_type": "code",
     "collapsed": false,
     "input": [
      "a = np.ones((3,4,5,6))\n",
      "b = np.rollaxis(a, 3, 1)\n",
      "print b.shape\n",
      "\n",
      "c = np.rollaxis(a, 2)\n",
      "print c.shape\n",
      "\n",
      "d = np.rollaxis(a, 1, 4)\n",
      "print d.shape"
     ],
     "language": "python",
     "metadata": {},
     "outputs": [
      {
       "output_type": "stream",
       "stream": "stdout",
       "text": [
        "(3, 6, 4, 5)\n",
        "(5, 3, 4, 6)\n",
        "(3, 5, 6, 4)\n"
       ]
      }
     ],
     "prompt_number": 3
    },
    {
     "cell_type": "markdown",
     "metadata": {},
     "source": [
      "Now our reverse function:"
     ]
    },
    {
     "cell_type": "code",
     "collapsed": false,
     "input": [
      "def sixallor(x, i, j=0):\n",
      "    if i>j:\n",
      "        return np.rollaxis(x, j, i+1)\n",
      "    else:\n",
      "        return np.rollaxis(x, j-1, i)"
     ],
     "language": "python",
     "metadata": {},
     "outputs": [],
     "prompt_number": 6
    },
    {
     "cell_type": "code",
     "collapsed": false,
     "input": [
      "print sixallor(b, 3, 1).shape\n",
      "print sixallor(c, 2).shape\n",
      "print sixallor(d, 1, 4).shape"
     ],
     "language": "python",
     "metadata": {},
     "outputs": [
      {
       "output_type": "stream",
       "stream": "stdout",
       "text": [
        "(3, 4, 5, 6)\n",
        "(3, 4, 5, 6)\n",
        "(3, 4, 5, 6)\n"
       ]
      }
     ],
     "prompt_number": 8
    },
    {
     "cell_type": "code",
     "collapsed": false,
     "input": [],
     "language": "python",
     "metadata": {},
     "outputs": []
    }
   ],
   "metadata": {}
  }
 ]
}