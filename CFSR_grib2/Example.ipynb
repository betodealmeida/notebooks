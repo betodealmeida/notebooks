{
 "metadata": {
  "name": "Example"
 },
 "nbformat": 3,
 "nbformat_minor": 0,
 "worksheets": [
  {
   "cells": [
    {
     "cell_type": "markdown",
     "metadata": {},
     "source": [
      "Accessing CFSR grib2\n",
      "====================\n",
      "\n",
      "This is a simple example showing how to access CFSR data efficiently using Pydap. Relevant discussion is on [Google Groups](https://groups.google.com/group/pydap/browse_thread/thread/4333f1c783e20878).\n",
      "\n",
      "First, we import the `open_url` function from pydap:"
     ]
    },
    {
     "cell_type": "code",
     "collapsed": false,
     "input": [
      "from pydap.client import open_url"
     ],
     "language": "python",
     "metadata": {},
     "outputs": [],
     "prompt_number": 1
    },
    {
     "cell_type": "markdown",
     "metadata": {},
     "source": [
      "We only need to access the OPeNDAP URL once. This will gives a dataset object which contains all the variables. There's no need to open it for each variable separately."
     ]
    },
    {
     "cell_type": "code",
     "collapsed": false,
     "input": [
      "dataset = open_url(\"http://nomads.ncdc.noaa.gov/thredds/dodsC/cfsr1hr/200912/wnd10m.gdas.200912.grb2\")\n",
      "print dataset"
     ],
     "language": "python",
     "metadata": {},
     "outputs": [
      {
       "output_type": "stream",
       "stream": "stdout",
       "text": [
        "DatasetType with children ['U-component_of_wind', 'V-component_of_wind', 'time', 'lat', 'gaussw', 'lon', 'latLonCoordSys', 'height_above_ground']\n"
       ]
      }
     ],
     "prompt_number": 3
    },
    {
     "cell_type": "markdown",
     "metadata": {},
     "source": [
      "We can now define the variables. The requests will below will download data from the server, once for each variable:"
     ]
    },
    {
     "cell_type": "code",
     "collapsed": false,
     "input": [
      "u10m = dataset['U-component_of_wind'][:,0,9,9]\n",
      "v10m = dataset['V-component_of_wind'][:,0,9,9]\n",
      "time = dataset['time'][:]"
     ],
     "language": "python",
     "metadata": {},
     "outputs": [],
     "prompt_number": "*"
    },
    {
     "cell_type": "markdown",
     "metadata": {},
     "source": [
      "To calculate wind speed and direction you should avoid a loop and do it directly:"
     ]
    },
    {
     "cell_type": "code",
     "collapsed": false,
     "input": [
      "wsdp_out = np.sqrt( u10m**2 + v10m**2 )\n",
      "wdir_out = np.arctan2( v10m, u10m ) * pi / 180."
     ],
     "language": "python",
     "metadata": {},
     "outputs": [],
     "prompt_number": "*"
    },
    {
     "cell_type": "code",
     "collapsed": false,
     "input": [],
     "language": "python",
     "metadata": {},
     "outputs": []
    }
   ],
   "metadata": {}
  }
 ]
}